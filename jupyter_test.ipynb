{
  "nbformat": 4,
  "nbformat_minor": 0,
  "metadata": {
    "colab": {
      "provenance": [],
      "authorship_tag": "ABX9TyO5UdDHn7g9Fp/5hxiR2xZM",
      "include_colab_link": true
    },
    "kernelspec": {
      "name": "python3",
      "display_name": "Python 3"
    },
    "language_info": {
      "name": "python"
    }
  },
  "cells": [
    {
      "cell_type": "markdown",
      "metadata": {
        "id": "view-in-github",
        "colab_type": "text"
      },
      "source": [
        "<a href=\"https://colab.research.google.com/github/nicomts/jupyter-test/blob/main/jupyter_test.ipynb\" target=\"_parent\"><img src=\"https://colab.research.google.com/assets/colab-badge.svg\" alt=\"Open In Colab\"/></a>"
      ]
    },
    {
      "cell_type": "markdown",
      "source": [
        "# Hello\n",
        "world\n",
        "**bold**\n"
      ],
      "metadata": {
        "id": "7Md8Iq4UKroa"
      }
    },
    {
      "cell_type": "code",
      "execution_count": 2,
      "metadata": {
        "colab": {
          "base_uri": "https://localhost:8080/"
        },
        "id": "J4eMXMzxHyfz",
        "outputId": "3ce94559-ed03-4033-ad7e-679134e94fa7"
      },
      "outputs": [
        {
          "output_type": "stream",
          "name": "stdout",
          "text": [
            "Cuantos son 6 y 7?\n",
            "13\n"
          ]
        }
      ],
      "source": [
        "sum = 6 + 7\n",
        "print(\"Cuantos son 6 y 7?\")\n",
        "print(sum)"
      ]
    }
  ]
}